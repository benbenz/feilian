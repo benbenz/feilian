{
 "cells": [
  {
   "cell_type": "code",
   "execution_count": 28,
   "metadata": {},
   "outputs": [
    {
     "data": {
      "text/html": [
       "<div>\n",
       "<style scoped>\n",
       "    .dataframe tbody tr th:only-of-type {\n",
       "        vertical-align: middle;\n",
       "    }\n",
       "\n",
       "    .dataframe tbody tr th {\n",
       "        vertical-align: top;\n",
       "    }\n",
       "\n",
       "    .dataframe thead th {\n",
       "        text-align: right;\n",
       "    }\n",
       "</style>\n",
       "<table border=\"1\" class=\"dataframe\">\n",
       "  <thead>\n",
       "    <tr style=\"text-align: right;\">\n",
       "      <th></th>\n",
       "      <th>col0</th>\n",
       "      <th>col1</th>\n",
       "      <th>col2</th>\n",
       "      <th>col3</th>\n",
       "      <th>col4</th>\n",
       "      <th>col5</th>\n",
       "    </tr>\n",
       "  </thead>\n",
       "  <tbody>\n",
       "    <tr>\n",
       "      <th>0</th>\n",
       "      <td>0000</td>\n",
       "      <td>4</td>\n",
       "      <td>11700 Old Seward Hwy</td>\n",
       "      <td>Anchorage</td>\n",
       "      <td>AK</td>\n",
       "      <td>99515.0</td>\n",
       "    </tr>\n",
       "    <tr>\n",
       "      <th>1</th>\n",
       "      <td>0001</td>\n",
       "      <td>4</td>\n",
       "      <td>12870 Old Seward Highway</td>\n",
       "      <td>Anchorage</td>\n",
       "      <td>AK</td>\n",
       "      <td>99515.0</td>\n",
       "    </tr>\n",
       "    <tr>\n",
       "      <th>2</th>\n",
       "      <td>0002</td>\n",
       "      <td>4</td>\n",
       "      <td>3230 Seward Hwy</td>\n",
       "      <td>Anchorage</td>\n",
       "      <td>AK</td>\n",
       "      <td>99503.0</td>\n",
       "    </tr>\n",
       "    <tr>\n",
       "      <th>3</th>\n",
       "      <td>0003</td>\n",
       "      <td>4</td>\n",
       "      <td>1204 Agvik St</td>\n",
       "      <td>Barrow</td>\n",
       "      <td>AK</td>\n",
       "      <td>99723.0</td>\n",
       "    </tr>\n",
       "    <tr>\n",
       "      <th>4</th>\n",
       "      <td>0004</td>\n",
       "      <td>4</td>\n",
       "      <td>1721 Ogrook St</td>\n",
       "      <td>Barrow</td>\n",
       "      <td>AK</td>\n",
       "      <td>99723.0</td>\n",
       "    </tr>\n",
       "  </tbody>\n",
       "</table>\n",
       "</div>"
      ],
      "text/plain": [
       "   col0 col1                      col2       col3 col4     col5\n",
       "0  0000    4      11700 Old Seward Hwy  Anchorage   AK  99515.0\n",
       "1  0001    4  12870 Old Seward Highway  Anchorage   AK  99515.0\n",
       "2  0002    4           3230 Seward Hwy  Anchorage   AK  99503.0\n",
       "3  0003    4             1204 Agvik St     Barrow   AK  99723.0\n",
       "4  0004    4            1721 Ogrook St     Barrow   AK  99723.0"
      ]
     },
     "execution_count": 28,
     "metadata": {},
     "output_type": "execute_result"
    }
   ],
   "source": [
    "import pandas as pd\n",
    "\n",
    "# Step 1: Read the file while allowing for rows with different column lengths and specify five columns\n",
    "file_path = '/Users/brycewang/Desktop/智能爬虫/data/swde/sourceCode/sourceCode/groundtruth/restaurant/restaurant-restaurantica-address.txt'\n",
    "\n",
    "# Define five column names, filling missing columns with NaN\n",
    "df = pd.read_csv(file_path, sep='\\t', header=None, engine='python', on_bad_lines='skip', \n",
    "                 names=[\"col0\", 'col1', 'col2', 'col3', 'col4', 'col5'], na_values='')\n",
    "\n",
    "## drop top 2 rows \n",
    "df = df.drop(index=df.index[:2])\n",
    "df = df.reset_index(drop=True)\n",
    "df.head()"
   ]
  },
  {
   "cell_type": "code",
   "execution_count": 23,
   "metadata": {},
   "outputs": [
    {
     "data": {
      "text/html": [
       "<div>\n",
       "<style scoped>\n",
       "    .dataframe tbody tr th:only-of-type {\n",
       "        vertical-align: middle;\n",
       "    }\n",
       "\n",
       "    .dataframe tbody tr th {\n",
       "        vertical-align: top;\n",
       "    }\n",
       "\n",
       "    .dataframe thead th {\n",
       "        text-align: right;\n",
       "    }\n",
       "</style>\n",
       "<table border=\"1\" class=\"dataframe\">\n",
       "  <thead>\n",
       "    <tr style=\"text-align: right;\">\n",
       "      <th></th>\n",
       "      <th>col0</th>\n",
       "      <th>col1</th>\n",
       "      <th>col2</th>\n",
       "      <th>col3</th>\n",
       "      <th>col4</th>\n",
       "    </tr>\n",
       "  </thead>\n",
       "  <tbody>\n",
       "    <tr>\n",
       "      <th>count</th>\n",
       "      <td>2000</td>\n",
       "      <td>2000</td>\n",
       "      <td>2000</td>\n",
       "      <td>1641</td>\n",
       "      <td>705</td>\n",
       "    </tr>\n",
       "    <tr>\n",
       "      <th>unique</th>\n",
       "      <td>2000</td>\n",
       "      <td>3</td>\n",
       "      <td>1998</td>\n",
       "      <td>1608</td>\n",
       "      <td>703</td>\n",
       "    </tr>\n",
       "    <tr>\n",
       "      <th>top</th>\n",
       "      <td>0000</td>\n",
       "      <td>2</td>\n",
       "      <td>(480) 905-9288</td>\n",
       "      <td>(866) 766-0766</td>\n",
       "      <td>(800) 544-1489</td>\n",
       "    </tr>\n",
       "    <tr>\n",
       "      <th>freq</th>\n",
       "      <td>1</td>\n",
       "      <td>936</td>\n",
       "      <td>2</td>\n",
       "      <td>8</td>\n",
       "      <td>2</td>\n",
       "    </tr>\n",
       "  </tbody>\n",
       "</table>\n",
       "</div>"
      ],
      "text/plain": [
       "        col0  col1            col2            col3            col4\n",
       "count   2000  2000            2000            1641             705\n",
       "unique  2000     3            1998            1608             703\n",
       "top     0000     2  (480) 905-9288  (866) 766-0766  (800) 544-1489\n",
       "freq       1   936               2               8               2"
      ]
     },
     "execution_count": 23,
     "metadata": {},
     "output_type": "execute_result"
    }
   ],
   "source": [
    "df.describe()"
   ]
  },
  {
   "cell_type": "code",
   "execution_count": 25,
   "metadata": {},
   "outputs": [
    {
     "data": {
      "text/plain": [
       "count    2000.000000\n",
       "mean        2.173000\n",
       "std         0.708747\n",
       "min         1.000000\n",
       "25%         2.000000\n",
       "50%         2.000000\n",
       "75%         3.000000\n",
       "max         3.000000\n",
       "Name: col1, dtype: float64"
      ]
     },
     "execution_count": 25,
     "metadata": {},
     "output_type": "execute_result"
    }
   ],
   "source": [
    "df['col1'] = pd.to_numeric(df['col1'])\n",
    "df['col1'].describe(include='all')"
   ]
  },
  {
   "cell_type": "markdown",
   "metadata": {},
   "source": [
    "# Check all the label counts of the groundtruth"
   ]
  },
  {
   "cell_type": "code",
   "execution_count": 35,
   "metadata": {},
   "outputs": [
    {
     "name": "stdout",
     "output_type": "stream",
     "text": [
      "Data has been exported to /Users/brycewang/Desktop/df_label_count.csv\n"
     ]
    }
   ],
   "source": [
    "import os\n",
    "import pandas as pd\n",
    "\n",
    "# Define the main folder path\n",
    "folder_path = '/Users/brycewang/Desktop/智能爬虫/data/swde/sourceCode/sourceCode/groundtruth'\n",
    "\n",
    "# Initialize an empty list to store the results\n",
    "label_count_list = []\n",
    "\n",
    "# Walk through each folder and file in the main directory\n",
    "for root, dirs, files in os.walk(folder_path):\n",
    "    for file in files:\n",
    "        if file.endswith('.txt'):\n",
    "            # Construct full file path\n",
    "            file_path = os.path.join(root, file)\n",
    "            \n",
    "            # Read the file as in your original code\n",
    "            df = pd.read_csv(file_path, sep='\\t', header=None, engine='python', on_bad_lines='skip', \n",
    "                             names=[\"col0\", 'col1', 'col2', 'col3', 'col4', 'col5', 'col6', 'col7', 'col8', 'col9',\n",
    "                                    \"col10\", 'col11', 'col12', 'col13', 'col14', 'col15', 'col16', 'col17', 'col18', 'col19',\n",
    "                                    \"col20\", 'col21', 'col22', 'col23', 'col24', 'col25', 'col26', 'col27', 'col28', 'col29'], na_values='')\n",
    "            \n",
    "            # Drop the first 2 rows\n",
    "            df = df.drop(index=df.index[:2])\n",
    "            df = df.reset_index(drop=True)\n",
    "            \n",
    "            # Convert 'col1' to numeric, handling errors if any\n",
    "            df['col1'] = pd.to_numeric(df['col1'], errors='coerce')\n",
    "              \n",
    "            # Check if col1 is not empty and calculate max/min\n",
    "            if not df['col1'].empty:\n",
    "                max_val = df['col1'].max()\n",
    "                min_val = df['col1'].min()\n",
    "            else:\n",
    "                max_val = None\n",
    "                min_val = None\n",
    "            \n",
    "            # Append the results to the list\n",
    "            label_count_list.append([file, max_val, min_val])\n",
    "\n",
    "# Create a DataFrame from the list\n",
    "df_label_count = pd.DataFrame(label_count_list, columns=['file_name', 'max_col1', 'min_col1'])\n",
    "\n",
    "# Sort df_label_count by 'max_col1' in descending order\n",
    "df_label_count = df_label_count.sort_values(by='max_col1', ascending=False)\n",
    "\n",
    "# Export the DataFrame to a CSV file\n",
    "output_csv_path = '/Users/brycewang/Desktop/df_label_count.csv'\n",
    "df_label_count.to_csv(output_csv_path, index=False)\n",
    "print(f'Data has been exported to {output_csv_path}')"
   ]
  }
 ],
 "metadata": {
  "kernelspec": {
   "display_name": "Python 3",
   "language": "python",
   "name": "python3"
  },
  "language_info": {
   "codemirror_mode": {
    "name": "ipython",
    "version": 3
   },
   "file_extension": ".py",
   "mimetype": "text/x-python",
   "name": "python",
   "nbconvert_exporter": "python",
   "pygments_lexer": "ipython3",
   "version": "3.11.1"
  }
 },
 "nbformat": 4,
 "nbformat_minor": 2
}
