{
  "nbformat": 4,
  "nbformat_minor": 0,
  "metadata": {
    "colab": {
      "provenance": [],
      "toc_visible": true
    },
    "kernelspec": {
      "name": "python3",
      "display_name": "Python 3"
    },
    "language_info": {
      "name": "python"
    }
  },
  "cells": [
    {
      "cell_type": "markdown",
      "source": [
        "# 不科学：sklearn+手动排序未知 label"
      ],
      "metadata": {
        "id": "S9yT1f1FXNiq"
      }
    },
    {
      "cell_type": "code",
      "execution_count": null,
      "metadata": {
        "colab": {
          "base_uri": "https://localhost:8080/"
        },
        "id": "K6GqKSZAxAx_",
        "outputId": "d77bc1eb-832f-4f02-a21c-3415a06deb3e"
      },
      "outputs": [
        {
          "output_type": "stream",
          "name": "stdout",
          "text": [
            "\n",
            "--- 计算结果 ---\n",
            "宏平均 Precision: 0.8194\n",
            "宏平均 Recall: 0.5460\n",
            "微平均 Precision: 0.8182\n",
            "微平均 Recall: 0.5455\n"
          ]
        }
      ],
      "source": [
        "import numpy as np\n",
        "from sklearn.metrics import precision_score, recall_score\n",
        "\n",
        "## 定义Ground Truth和Predictions\n",
        "ground_truth = [\n",
        "    [],\n",
        "    ['科技'],\n",
        "    ['科技', '政治'],\n",
        "    ['科技', '政治', '娱乐'],\n",
        "    ['科技', '政治', '娱乐'],\n",
        "    ['科技', '政治', '娱乐'],\n",
        "    ['科技', '政治', '娱乐'],\n",
        "    ['科技', '政治', '娱乐'],\n",
        "    ['科技', '政治', '娱乐'],\n",
        "    ['科技', '政治', '娱乐'],\n",
        "    ['科技', '政治', '娱乐'],\n",
        "    ['科技', '政治', '娱乐'],\n",
        "    ['科技', '政治', '娱乐']\n",
        "]\n",
        "\n",
        "predictions = [\n",
        "    ['科技', '政治', '娱乐'],\n",
        "    [],\n",
        "    ['娱乐'],\n",
        "    ['政治', '娱乐'],\n",
        "    ['政治', '娱乐', 'xx'],\n",
        "    ['娱乐', '科技', 'xxxx'],\n",
        "    ['科技', '娱乐', 'xxxxxx'],\n",
        "    ['科技', '娱乐'],\n",
        "    ['娱乐', '政治', '科技'],\n",
        "    ['科技'],\n",
        "    ['其它 XXX'],\n",
        "    ['政治', '科技'],\n",
        "    ['科技', '政治']\n",
        "]\n",
        "\n",
        "# Get the set of all unique labels\n",
        "all_labels = sorted(set(label for labels in ground_truth for label in labels))\n",
        "\n",
        "# Binarize ground_truth and predictions for precision/recall calculation ## 手工排除了未知的 labels\n",
        "def binarize_labels(label_list, all_labels):\n",
        "    return np.array([[1 if label in labels else 0 for label in all_labels] for labels in label_list])\n",
        "\n",
        "y_true = binarize_labels(ground_truth, all_labels)\n",
        "y_pred = binarize_labels(predictions, all_labels)\n",
        "\n",
        "# Macro-average precision and recall\n",
        "precision_macro = precision_score(y_true, y_pred, average='macro')\n",
        "recall_macro = recall_score(y_true, y_pred, average='macro')\n",
        "\n",
        "# Micro-average precision and recall\n",
        "precision_micro = precision_score(y_true, y_pred, average='micro')\n",
        "recall_micro = recall_score(y_true, y_pred, average='micro')\n",
        "\n",
        "# 显示结果\n",
        "print(\"\\n--- 计算结果 ---\")\n",
        "print(f\"宏平均 Precision: {precision_macro:.4f}\")\n",
        "print(f\"宏平均 Recall: {recall_macro:.4f}\")\n",
        "print(f\"微平均 Precision: {precision_micro:.4f}\")\n",
        "print(f\"微平均 Recall: {recall_micro:.4f}\")"
      ]
    },
    {
      "cell_type": "markdown",
      "source": [
        "# 不科学：sklearn+自动忽略未知 label"
      ],
      "metadata": {
        "id": "Hn5BYXohXTiC"
      }
    },
    {
      "cell_type": "code",
      "source": [
        "# 导入必要的库\n",
        "from sklearn.preprocessing import MultiLabelBinarizer\n",
        "from sklearn.metrics import precision_score, recall_score\n",
        "\n",
        "## 定义Ground Truth和Predictions\n",
        "ground_truth = [\n",
        "    [],\n",
        "    ['科技'],\n",
        "    ['科技', '政治'],\n",
        "    ['科技', '政治', '娱乐'],\n",
        "    ['科技', '政治', '娱乐'],\n",
        "    ['科技', '政治', '娱乐'],\n",
        "    ['科技', '政治', '娱乐'],\n",
        "    ['科技', '政治', '娱乐'],\n",
        "    ['科技', '政治', '娱乐'],\n",
        "    ['科技', '政治', '娱乐'],\n",
        "    ['科技', '政治', '娱乐'],\n",
        "    ['科技', '政治', '娱乐'],\n",
        "    ['科技', '政治', '娱乐']\n",
        "]\n",
        "\n",
        "predictions = [\n",
        "    ['科技', '政治', '娱乐'],\n",
        "    [],\n",
        "    ['娱乐'],\n",
        "    ['政治', '娱乐'],\n",
        "    ['政治', '娱乐', 'xx'],\n",
        "    ['娱乐', '科技', 'xxxx'],\n",
        "    ['科技', '娱乐', 'xxxxxx'],\n",
        "    ['科技', '娱乐'],\n",
        "    ['娱乐', '政治', '科技'],\n",
        "    ['科技'],\n",
        "    ['其它 XXX'],\n",
        "    ['政治', '科技'],\n",
        "    ['科技', '政治']\n",
        "]\n",
        "\n",
        "# Step 2: 标签二值化\n",
        "mlb = MultiLabelBinarizer()\n",
        "# Fit只需要用Ground Truth的标签，因为所有预测标签都在Ground Truth中\n",
        "mlb.fit(ground_truth)\n",
        "\n",
        "# 将标签转换为二进制形式\n",
        "y_true = mlb.transform(ground_truth)\n",
        "y_pred = mlb.transform(predictions)\n",
        "\n",
        "# 显示标签顺序\n",
        "labels = mlb.classes_\n",
        "print(f\"标签顺序: {labels}\")\n",
        "\n",
        "# Step 3: 计算Precision和Recall\n",
        "\n",
        "# 宏平均\n",
        "precision_macro = precision_score(y_true, y_pred, average='macro', zero_division=0)\n",
        "recall_macro = recall_score(y_true, y_pred, average='macro', zero_division=0)\n",
        "\n",
        "# 微平均\n",
        "precision_micro = precision_score(y_true, y_pred, average='micro', zero_division=0)\n",
        "recall_micro = recall_score(y_true, y_pred, average='micro', zero_division=0)\n",
        "\n",
        "# 显示结果\n",
        "print(\"\\n--- 计算结果 ---\")\n",
        "print(f\"宏平均 Precision: {precision_macro:.4f}\")\n",
        "print(f\"宏平均 Recall: {recall_macro:.4f}\")\n",
        "print(f\"微平均 Precision: {precision_micro:.4f}\")\n",
        "print(f\"微平均 Recall: {recall_micro:.4f}\")"
      ],
      "metadata": {
        "colab": {
          "base_uri": "https://localhost:8080/"
        },
        "id": "odEjSTzmxMvf",
        "outputId": "17331786-68fa-4fff-83ea-11da874d0740"
      },
      "execution_count": null,
      "outputs": [
        {
          "output_type": "stream",
          "name": "stdout",
          "text": [
            "标签顺序: ['娱乐' '政治' '科技']\n",
            "\n",
            "--- 计算结果 ---\n",
            "宏平均 Precision: 0.8194\n",
            "宏平均 Recall: 0.5460\n",
            "微平均 Precision: 0.8182\n",
            "微平均 Recall: 0.5455\n"
          ]
        },
        {
          "output_type": "stream",
          "name": "stderr",
          "text": [
            "/usr/local/lib/python3.10/dist-packages/sklearn/preprocessing/_label.py:900: UserWarning: unknown class(es) ['xx', 'xxxx', 'xxxxxx', '其它 XXX'] will be ignored\n",
            "  warnings.warn(\n"
          ]
        }
      ]
    },
    {
      "cell_type": "markdown",
      "source": [
        "## 手工+汇总，再计算（微平均）"
      ],
      "metadata": {
        "id": "3mkUr_cSQlMz"
      }
    },
    {
      "cell_type": "code",
      "source": [
        "import numpy as np\n",
        "\n",
        "## 定义Ground Truth和Predictions\n",
        "ground_truth = [\n",
        "    [],\n",
        "    ['科技'],\n",
        "    ['科技', '政治'],\n",
        "    ['科技', '政治', '娱乐'],\n",
        "    ['科技', '政治', '娱乐'],\n",
        "    ['科技', '政治', '娱乐'],\n",
        "    ['科技', '政治', '娱乐'],\n",
        "    ['科技', '政治', '娱乐'],\n",
        "    ['科技', '政治', '娱乐'],\n",
        "    ['科技', '政治', '娱乐'],\n",
        "    ['科技', '政治', '娱乐'],\n",
        "    ['科技', '政治', '娱乐'],\n",
        "    ['科技', '政治', '娱乐']\n",
        "]\n",
        "\n",
        "predictions = [\n",
        "    ['科技', '政治', '娱乐'],\n",
        "    [],\n",
        "    ['娱乐'],\n",
        "    ['政治', '娱乐'],\n",
        "    ['政治', '娱乐', 'xx'],\n",
        "    ['娱乐', '科技', 'xxxx'],\n",
        "    ['科技', '娱乐', 'xxxxxx'],\n",
        "    ['科技', '娱乐'],\n",
        "    ['娱乐', '政治', '科技'],\n",
        "    ['科技'],\n",
        "    ['其它 XXX'],\n",
        "    ['政治', '科技'],\n",
        "    ['科技', '政治']\n",
        "]\n",
        "\n",
        "\n",
        "# 定义函数计算 Precision 和 Recall\n",
        "def calculate_metrics(y_true, y_pred):\n",
        "    true_positives, false_positives, false_negatives = 0, 0, 0\n",
        "\n",
        "    for gt, pred in zip(y_true, y_pred):\n",
        "        gt_set, pred_set = set(gt), set(pred)\n",
        "\n",
        "        true_positives += len(gt_set & pred_set)\n",
        "        false_positives += len(pred_set - gt_set)\n",
        "        false_negatives += len(gt_set - pred_set)\n",
        "\n",
        "    precision = true_positives / (true_positives + false_positives) if (true_positives + false_positives) > 0 else 0\n",
        "    recall = true_positives / (true_positives + false_negatives) if (true_positives + false_negatives) > 0 else 0\n",
        "    return precision, recall\n",
        "\n",
        "# 计算结果\n",
        "precision, recall = calculate_metrics(ground_truth, predictions)\n",
        "\n",
        "print(f\"Precision: {precision:.4f}\")\n",
        "print(f\"Recall: {recall:.4f}\")"
      ],
      "metadata": {
        "colab": {
          "base_uri": "https://localhost:8080/"
        },
        "id": "3Si3bis-KXq2",
        "outputId": "6ff907f5-b51c-4cba-ddd3-6f7db869d9d4"
      },
      "execution_count": null,
      "outputs": [
        {
          "output_type": "stream",
          "name": "stdout",
          "text": [
            "Precision: 0.6923\n",
            "Recall: 0.5455\n"
          ]
        }
      ]
    },
    {
      "cell_type": "markdown",
      "source": [
        "## 手工+逐个样本计算，最后求均值（宏平均）"
      ],
      "metadata": {
        "id": "et1JjLJaQrqo"
      }
    },
    {
      "cell_type": "code",
      "source": [
        "# Function to calculate TP, FP, FN for each pair of ground truth and predictions\n",
        "def calculate_metrics(ground_truth, predictions):\n",
        "    tp = 0\n",
        "    fp = 0\n",
        "    fn = 0\n",
        "\n",
        "    # Convert lists to sets for easy comparison\n",
        "    ground_set = set(ground_truth)\n",
        "    pred_set = set(predictions)\n",
        "\n",
        "    tp = len(ground_set & pred_set)  # True Positives: correct predictions\n",
        "    fp = len(pred_set - ground_set)  # False Positives: incorrect predictions\n",
        "    fn = len(ground_set - pred_set)  # False Negatives: missed labels\n",
        "\n",
        "    return tp, fp, fn\n",
        "\n",
        "# Initialize lists to store precision and recall values\n",
        "precision_list = []\n",
        "recall_list = []\n",
        "\n",
        "# Loop through each sample and calculate precision and recall\n",
        "for i in range(len(ground_truth)):\n",
        "    tp, fp, fn = calculate_metrics(ground_truth[i], predictions[i])\n",
        "\n",
        "    # Calculate precision and recall\n",
        "    if tp + fp > 0:\n",
        "        precision = tp / (tp + fp)\n",
        "    else:\n",
        "        precision = None  # Undefined precision when tp + fp = 0\n",
        "\n",
        "    if tp + fn > 0:\n",
        "        recall = tp / (tp + fn)\n",
        "    else:\n",
        "        recall = None  # Undefined recall when tp + fn = 0\n",
        "\n",
        "    # Append precision and recall to lists if they are defined\n",
        "    if precision is not None:\n",
        "        precision_list.append(precision)\n",
        "\n",
        "    if recall is not None:\n",
        "        recall_list.append(recall)\n",
        "\n",
        "# Calculate the average precision and recall\n",
        "average_precision = np.mean(precision_list)\n",
        "average_recall = np.mean(recall_list)\n",
        "\n",
        "average_precision, average_recall"
      ],
      "metadata": {
        "colab": {
          "base_uri": "https://localhost:8080/"
        },
        "id": "G-xZxjGZNcg8",
        "outputId": "2c6d627e-9cb3-41fd-afd3-12ee467e51f9"
      },
      "execution_count": null,
      "outputs": [
        {
          "output_type": "execute_result",
          "data": {
            "text/plain": [
              "(0.6666666666666666, 0.5)"
            ]
          },
          "metadata": {},
          "execution_count": 31
        }
      ]
    },
    {
      "cell_type": "markdown",
      "source": [
        "# Accuracy"
      ],
      "metadata": {
        "id": "1evV1CvNEVnM"
      }
    },
    {
      "cell_type": "code",
      "source": [
        "import numpy as np\n",
        "\n",
        "# Define the ground truth and predictions\n",
        "ground_truth = [\n",
        "    [],\n",
        "    ['科技'],\n",
        "    ['科技', '政治'],\n",
        "    ['科技', '政治', '娱乐'],\n",
        "    ['科技', '政治', '娱乐'],\n",
        "    ['科技', '政治', '娱乐'],\n",
        "    ['科技', '政治', '娱乐'],\n",
        "    ['科技', '政治', '娱乐'],\n",
        "    ['科技', '政治', '娱乐'],\n",
        "    ['科技', '政治', '娱乐'],\n",
        "    ['科技', '政治', '娱乐'],\n",
        "    ['科技', '政治', '娱乐'],\n",
        "    ['科技', '政治', '娱乐']\n",
        "]\n",
        "\n",
        "predictions = [\n",
        "    ['科技', '政治', '娱乐'],\n",
        "    [],\n",
        "    ['娱乐'],\n",
        "    ['政治', '娱乐'],\n",
        "    ['政治', '娱乐', 'xx'],\n",
        "    ['娱乐', '科技', 'xxxx'],\n",
        "    ['科技', '娱乐', 'xxxxxx'],\n",
        "    ['科技', '娱乐'],\n",
        "    ['娱乐', '政治', '科技'],\n",
        "    ['科技'],\n",
        "    ['其它 XXX'],\n",
        "    ['政治', '科技'],\n",
        "    ['科技', '政治']\n",
        "]\n",
        "\n",
        "# Function to calculate accuracy\n",
        "def calculate_accuracy(ground_truth, predictions):\n",
        "    total = len(ground_truth)\n",
        "    correct = sum([set(gt) == set(pred) for gt, pred in zip(ground_truth, predictions)])\n",
        "    return correct / total\n",
        "\n",
        "# Calculate accuracy\n",
        "accuracy = calculate_accuracy(ground_truth, predictions)\n",
        "accuracy"
      ],
      "metadata": {
        "colab": {
          "base_uri": "https://localhost:8080/"
        },
        "id": "LptZnKAmEWwa",
        "outputId": "b2a75212-f7f1-454f-a642-b0c38f66df13"
      },
      "execution_count": null,
      "outputs": [
        {
          "output_type": "execute_result",
          "data": {
            "text/plain": [
              "0.07692307692307693"
            ]
          },
          "metadata": {},
          "execution_count": 34
        }
      ]
    },
    {
      "cell_type": "code",
      "source": [],
      "metadata": {
        "id": "-jYcb9MPEXqf"
      },
      "execution_count": null,
      "outputs": []
    }
  ]
}